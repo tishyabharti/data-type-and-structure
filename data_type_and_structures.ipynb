{
  "nbformat": 4,
  "nbformat_minor": 0,
  "metadata": {
    "colab": {
      "provenance": []
    },
    "kernelspec": {
      "name": "python3",
      "display_name": "Python 3"
    },
    "language_info": {
      "name": "python"
    }
  },
  "cells": [
    {
      "cell_type": "markdown",
      "source": [
        "#DATA TYPE AND STRUCTURES\n",
        "  ** #theory**\n",
        "1.  What are data structures, and why are they important\n",
        " - A data structure is a way of organizing, storing, and managing data so that it can be accessed and modified efficiently. It defines how data is organized in a computer’s memory and how operations (like inserting, deleting, or updating) can be performed on the data.\n",
        "  - Data structures help organize and manage data efficiently, which in turn impacts the speed and effectiveness of algorithms and programs. Understanding which data structure to use for a given problem is a key skill for software development, making data structures fundamental to computer science.        \n",
        "\n",
        "2.  Explain the difference between mutable and immutable data types with example\n",
        " - Mutable Types:\n",
        "The object can be modified after creation.\n",
        "Changes to the object are reflected across all references to that object.\n",
        "They typically use more memory because of the ability to change.\n",
        " - Immutable Data Types:\n",
        "An immutable data type is one where the content or value cannot be modified after it is created. Once you create an immutable object, its state is fixed and cannot be altered.\n",
        "\n",
        "3.  What are the main differences between lists and tuples in Python\n",
        " - Use lists when you need a collection of data that might change (elements can be added, removed, or modified).\n",
        "\n",
        " - Use tuples when you need a collection of data that should remain constant, for efficiency or when you need hashable objects for use in sets or as dictionary keys.\n",
        "\n",
        "4. Describe how dictionaries store data\n",
        " - Python dictionaries use a hash table to store data efficiently, where each key is hashed to determine its position in the internal structure. This enables fast lookups, insertions, and deletions. The dictionary’s ability to store and retrieve data quickly makes it an essential data structure in Python, widely used for tasks requiring efficient data access and modification.\n",
        "5. Why might you use a set instead of a list in Python\n",
        " - In Python, both sets and lists are used to store collections of data, but they have distinct characteristics that make them suitable for different use cases. we use set instead of list because-\n",
        "      - uniqueness of element\n",
        "      - faster lookups\n",
        "      - mathematical set operations are powerful\n",
        "      - no ordering\n",
        "      - memory efficiency\n",
        "      - easy addition and removal of elements\n",
        "      \n",
        "\n",
        "6. What is a string in Python, and how is it different from a list\n",
        " -  string in Python is a sequence of characters enclosed in single quotes (') or double quotes (\"). Strings are used to store text-based data and can include letters, numbers, punctuation, and other symbols.\n",
        " - Strings are sequences of characters and are immutable, which means once created, their contents cannot be changed.\n",
        "Lists are ordered collections of elements and are mutable, meaning their contents can be modified, and they can contain various types of elements, including strings, integers, and other lists.\n",
        "7. How do tuples ensure data integrity in Python\n",
        " - In Python, tuples are immutable sequences of elements, which means once a tuple is created, its contents cannot be changed. This immutability feature is what helps ensure data integrity in Python.\n",
        "8.  What is a hash table, and how does it relate to dictionaries in Python\n",
        " - A hash table (also known as a hash map) is a data structure that stores data in key-value pairs. It uses a hash function to convert the key into an index in an array, which is then used to store the corresponding value. Hash tables are designed for efficient data retrieval, typically providing average time complexity of O(1) for operations like insert, delete, and search.\n",
        "  - In Python, the dictionary data structure is implemented using a hash table. This means that Python dictionaries\n",
        "   store their elements as key-value pairs, and the keys are hashed to determine their location in memory.\n",
        "\n",
        "9. Can lists contain different data types in Python\n",
        " - Yes, lists in Python can contain different data types. A list is an ordered collection that can hold elements of various types, including integers, strings, floating-point numbers, other lists, dictionaries, and even objects of custom classes.\n",
        "10. explain why strings are immutable in Python\n",
        " - strings are immutable because once a string is created, its content cannot be changed. This immutability is a key feature of strings in Python and has several important benefits and reasons behind its design.\n",
        "11.  What advantages do dictionaries offer over lists for certain tasks\n",
        " - Dictionaries provide fast access to data using keys, allow key-value pair associations, ensure key uniqueness, and handle complex data structures efficiently. They are ideal when quick lookups, key-based organization, and data integrity are important. In contrast, lists are better suited for ordered collections and scenarios where you don’t need to associate each item with a unique identifier\n",
        "12.  Describe a scenario where using a tuple would be preferable over a list\n",
        " - Immutability: Coordinates (like positions on a grid) should not change during the program’s execution. A tuple guarantees that the data remains constant.\n",
        "  - Performance: Tuples are more memory-efficient than lists because they are fixed-size and immutable.\n",
        "   - Semantics: A tuple communicates the idea that the data is a fixed pair of values that represent a single concept (such as a point in space).\n",
        "13. how do sets handle duplicate values in Python\n",
        " - Sets automatically handle duplicates by ensuring each element is unique. If an element is added more than once, only the first occurrence will be kept, and any subsequent duplicates are ignored.\n",
        "  - This makes sets an excellent choice when you need to store unique elements and do not need to worry about duplicates in your data.\n",
        "14.  How does the “in” keyword work differently for lists and dictionaries\n",
        " - For lists, the in keyword checks for the presence of a value (element), and it performs a sequential search through the list.\n",
        "  - For dictionaries, the in keyword checks for the presence of a key, and the lookup is generally faster because dictionaries use hash tables for efficient key-based lookups.\n",
        "15.  Can you modify the elements of a tuple? Explain why or why not\n",
        " - No, you cannot modify the elements of a tuple in Python. Tuples are immutable data structures, which means that once a tuple is created, its contents cannot be changed.\n",
        "16.  What is a nested dictionary, and give an example of its use case\n",
        " - A nested dictionary in Python is a dictionary that contains other dictionaries as its values. This allows you to represent hierarchical or more complex data structures in an organized way. In a nested dictionary, the values of one dictionary can themselves be dictionaries, allowing for multiple levels of key-value pairs.\n",
        "17. Describe the time complexity of accessing elements in a dictionary\n",
        " - Accessing elements in a Python dictionary is typically O(1), meaning it is very fast and independent of the size of the dictionary. The worst-case time complexity is O(n), but such cases are uncommon in practice.\n",
        "18.  In what situations are lists preferred over dictionaries\n",
        " - When the order of elements matters.\n",
        " - When you need to store duplicates of the same element.\n",
        " - When you need to access elements by index.\n",
        " - When the data is homogeneous (same type of data).\n",
        " - When you need to perform list-specific operations like sorting, slicing, or modifying elements.\n",
        " - When the collection size is known and fixed.\n",
        "   In these cases, lists provide an efficient and simple solution. However, when key-based access or unique key-value mapping is required, dictionaries would be the better choice.\n",
        "19.  Why are dictionaries considered unordered, and how does that affect data retrieval\n",
        " - Efficient Key Lookup: Dictionaries are optimized for fast key-based access and retrieval (O(1) average time complexity), regardless of the insertion order.\n",
        " - Iteration and Order: While Python 3.7+ maintains insertion order, this order is not the defining characteristic of a dictionary, and in earlier versions, the order of items was arbitrary.\n",
        "  - No Implicit Sorting: If you need ordered data, you must explicitly sort the dictionary or use other data structures like OrderedDict or lists.\n",
        "   - Unordered by Default: In earlier versions of Python (prior to 3.7), dictionaries were considered unordered, meaning you could not rely on the order in which items were added when iterating through the dictionary.\n",
        "20.  Explain the difference between a list and a dictionary in terms of data retrieval.\n",
        " - Lists are ideal when you need to access elements by index or when you want to preserve a sequence of items.\n",
        "  - Dictionaries are best for situations where you need efficient key-based access to values, especially when the keys are unique identifiers (e.g., names, IDs). They provide constant-time lookups and are optimized for this purpose, while lists are better suited for sequential access and ordered collections.\n",
        "\n",
        "\n",
        "\n",
        "#practical\n",
        "\n",
        "1. Write a code to create a string with your name and print it\n"
      ],
      "metadata": {
        "id": "sXZiP71geb-h"
      }
    },
    {
      "cell_type": "code",
      "source": [
        "\n",
        "my_name = \"tishya\"\n",
        "\n",
        "print(my_name)"
      ],
      "metadata": {
        "colab": {
          "base_uri": "https://localhost:8080/"
        },
        "id": "q7Jj7RbPWM4M",
        "outputId": "ddd067da-57b3-464f-cfe5-26e59bea619e"
      },
      "execution_count": 1,
      "outputs": [
        {
          "output_type": "stream",
          "name": "stdout",
          "text": [
            "tishya\n"
          ]
        }
      ]
    },
    {
      "cell_type": "markdown",
      "source": [
        "2.  Write a code to find the length of the string \"Hello World\""
      ],
      "metadata": {
        "id": "9g6qzpA9WqDr"
      }
    },
    {
      "cell_type": "code",
      "source": [
        "\n",
        "my_string = \"Hello World\"\n",
        "\n",
        "length = len(my_string)\n",
        "print(length)\n"
      ],
      "metadata": {
        "colab": {
          "base_uri": "https://localhost:8080/"
        },
        "id": "_9udUZcQW3j2",
        "outputId": "b5233dc0-ab34-4756-cfef-59006b1166aa"
      },
      "execution_count": 2,
      "outputs": [
        {
          "output_type": "stream",
          "name": "stdout",
          "text": [
            "11\n"
          ]
        }
      ]
    },
    {
      "cell_type": "markdown",
      "source": [
        "3. Write a code to slice the first 3 characters from the string \"Python Programming\""
      ],
      "metadata": {
        "id": "2bkRh0lYmtDg"
      }
    },
    {
      "cell_type": "code",
      "source": [
        "\n",
        "my_string = \"Python Programming\"\n",
        "\n",
        "sliced_string = my_string[:3]\n",
        "\n",
        "print(sliced_string)\n"
      ],
      "metadata": {
        "colab": {
          "base_uri": "https://localhost:8080/"
        },
        "id": "mis3aRtWXKjd",
        "outputId": "d14fa722-3588-4048-f2e4-2a681332c2af"
      },
      "execution_count": 3,
      "outputs": [
        {
          "output_type": "stream",
          "name": "stdout",
          "text": [
            "Pyt\n"
          ]
        }
      ]
    },
    {
      "cell_type": "markdown",
      "source": [
        "4. Write a code to convert the string \"hello\" to uppercase\n"
      ],
      "metadata": {
        "id": "hgKHg0Y-Xgep"
      }
    },
    {
      "cell_type": "code",
      "source": [
        "# Define the string\n",
        "my_string = \"hello\"\n",
        "\n",
        "# Convert the string to uppercase\n",
        "uppercase_string = my_string.upper()\n",
        "\n",
        "# Print the uppercase string\n",
        "print(uppercase_string)\n"
      ],
      "metadata": {
        "colab": {
          "base_uri": "https://localhost:8080/"
        },
        "id": "NUS_xn7XX124",
        "outputId": "3f9a951a-eab0-43f5-d6c8-b444d39e7f6b"
      },
      "execution_count": 4,
      "outputs": [
        {
          "output_type": "stream",
          "name": "stdout",
          "text": [
            "HELLO\n"
          ]
        }
      ]
    },
    {
      "cell_type": "code",
      "source": [],
      "metadata": {
        "id": "4Ei7v61oX8yk"
      },
      "execution_count": null,
      "outputs": []
    },
    {
      "cell_type": "markdown",
      "source": [
        "5. Write a code to replace the word \"apple\" with \"orange\" in the string \"I like apple"
      ],
      "metadata": {
        "id": "SuDAOom1YU2F"
      }
    },
    {
      "cell_type": "code",
      "source": [
        "\n",
        "my_string = \"I like apple\"\n",
        "\n",
        "modified_string = my_string.replace(\"apple\", \"orange\")\n",
        "\n",
        "print(modified_string)\n"
      ],
      "metadata": {
        "colab": {
          "base_uri": "https://localhost:8080/"
        },
        "id": "78jWL4m2YY77",
        "outputId": "a40b90a7-2ee9-450d-d49b-0c4d538841e4"
      },
      "execution_count": 5,
      "outputs": [
        {
          "output_type": "stream",
          "name": "stdout",
          "text": [
            "I like orange\n"
          ]
        }
      ]
    },
    {
      "cell_type": "code",
      "source": [],
      "metadata": {
        "id": "XrmL_vizZAkJ"
      },
      "execution_count": null,
      "outputs": []
    },
    {
      "cell_type": "markdown",
      "source": [
        "6. Write a code to create a list with numbers 1 to 5 and print it"
      ],
      "metadata": {
        "id": "VesxdUlNZE4Z"
      }
    },
    {
      "cell_type": "code",
      "source": [
        "\n",
        "my_list = [1, 2, 3, 4, 5]\n",
        "\n",
        "print(my_list)\n"
      ],
      "metadata": {
        "colab": {
          "base_uri": "https://localhost:8080/"
        },
        "id": "IExlvlALZuJ6",
        "outputId": "0b443e69-c4ec-4bc2-8d6c-147a8a5934b8"
      },
      "execution_count": 6,
      "outputs": [
        {
          "output_type": "stream",
          "name": "stdout",
          "text": [
            "[1, 2, 3, 4, 5]\n"
          ]
        }
      ]
    },
    {
      "cell_type": "code",
      "source": [],
      "metadata": {
        "id": "-prLIMvbaNzU"
      },
      "execution_count": null,
      "outputs": []
    },
    {
      "cell_type": "markdown",
      "source": [
        "7.  Write a code to append the number 10 to the list [1, 2, 3, 4]"
      ],
      "metadata": {
        "id": "insS935raPPw"
      }
    },
    {
      "cell_type": "code",
      "source": [
        "\n",
        "my_list = [1, 2, 3, 4]\n",
        "\n",
        "my_list.append(10)\n",
        "print(my_list)\n"
      ],
      "metadata": {
        "colab": {
          "base_uri": "https://localhost:8080/"
        },
        "id": "OZBCIg_Ta3Ue",
        "outputId": "fe2e38ef-6021-4ff9-f140-09f7f7bb291e"
      },
      "execution_count": 7,
      "outputs": [
        {
          "output_type": "stream",
          "name": "stdout",
          "text": [
            "[1, 2, 3, 4, 10]\n"
          ]
        }
      ]
    },
    {
      "cell_type": "code",
      "source": [],
      "metadata": {
        "id": "znvziVB6bX-X"
      },
      "execution_count": null,
      "outputs": []
    },
    {
      "cell_type": "markdown",
      "source": [
        "8.  Write a code to remove the number 3 from the list [1, 2, 3, 4, 5]\n"
      ],
      "metadata": {
        "id": "-R6p7QAeba8l"
      }
    },
    {
      "cell_type": "code",
      "source": [
        "# Define the list\n",
        "my_list = [1, 2, 3, 4, 5]\n",
        "\n",
        "# Remove the number 3 from the list\n",
        "my_list.remove(3)\n",
        "\n",
        "# Print the updated list\n",
        "print(my_list)\n"
      ],
      "metadata": {
        "colab": {
          "base_uri": "https://localhost:8080/"
        },
        "id": "UsoWkarYbuw8",
        "outputId": "37283bc8-0f59-4758-d832-fa11c6407f58"
      },
      "execution_count": 8,
      "outputs": [
        {
          "output_type": "stream",
          "name": "stdout",
          "text": [
            "[1, 2, 4, 5]\n"
          ]
        }
      ]
    },
    {
      "cell_type": "code",
      "source": [],
      "metadata": {
        "id": "V2hVip_abv-J"
      },
      "execution_count": null,
      "outputs": []
    },
    {
      "cell_type": "markdown",
      "source": [
        "9.  Write a code to access the second element in the list ['a', 'b', 'c', 'd']"
      ],
      "metadata": {
        "id": "cf9uTxLXb00S"
      }
    },
    {
      "cell_type": "code",
      "source": [
        "# Define the list\n",
        "my_list = ['a', 'b', 'c', 'd']\n",
        "\n",
        "# Access the second element (index 1)\n",
        "second_element = my_list[1]\n",
        "\n",
        "# Print the second element\n",
        "print(second_element)\n"
      ],
      "metadata": {
        "colab": {
          "base_uri": "https://localhost:8080/"
        },
        "id": "7BDyHK5bb3Nl",
        "outputId": "03727423-f3bd-42f8-f776-125f4afd436a"
      },
      "execution_count": 9,
      "outputs": [
        {
          "output_type": "stream",
          "name": "stdout",
          "text": [
            "b\n"
          ]
        }
      ]
    },
    {
      "cell_type": "code",
      "source": [],
      "metadata": {
        "id": "761LCaZYcA5T"
      },
      "execution_count": null,
      "outputs": []
    },
    {
      "cell_type": "markdown",
      "source": [
        "10.  Write a code to reverse the list [10, 20, 30, 40, 50]."
      ],
      "metadata": {
        "id": "NhVQp4qNcGrQ"
      }
    },
    {
      "cell_type": "code",
      "source": [
        "# Define the list\n",
        "my_list = [10, 20, 30, 40, 50]\n",
        "\n",
        "# Reverse the list\n",
        "reversed_list = my_list[::-1]\n",
        "\n",
        "# Print the reversed list\n",
        "print(reversed_list)\n"
      ],
      "metadata": {
        "colab": {
          "base_uri": "https://localhost:8080/"
        },
        "id": "Qp_DX5yqcOTo",
        "outputId": "8fcf1a22-3668-4671-c8e0-890c8cb7d335"
      },
      "execution_count": 10,
      "outputs": [
        {
          "output_type": "stream",
          "name": "stdout",
          "text": [
            "[50, 40, 30, 20, 10]\n"
          ]
        }
      ]
    },
    {
      "cell_type": "code",
      "source": [],
      "metadata": {
        "id": "e48YKcLjcTM3"
      },
      "execution_count": null,
      "outputs": []
    },
    {
      "cell_type": "markdown",
      "source": [
        "11. Write a code to create a tuple with the elements 10, 20, 30 and print it."
      ],
      "metadata": {
        "id": "5LNMkiuTcbcc"
      }
    },
    {
      "cell_type": "code",
      "source": [
        "# Create a tuple with the elements 10, 20, 30\n",
        "my_tuple = (10, 20, 30)\n",
        "\n",
        "# Print the tuple\n",
        "print(my_tuple)\n"
      ],
      "metadata": {
        "colab": {
          "base_uri": "https://localhost:8080/"
        },
        "id": "JlZO0_zNcd9T",
        "outputId": "0eb820a6-95f5-49b4-afb2-36fff2bbac90"
      },
      "execution_count": 11,
      "outputs": [
        {
          "output_type": "stream",
          "name": "stdout",
          "text": [
            "(10, 20, 30)\n"
          ]
        }
      ]
    },
    {
      "cell_type": "code",
      "source": [],
      "metadata": {
        "id": "BWJoqy9KciZU"
      },
      "execution_count": null,
      "outputs": []
    },
    {
      "cell_type": "markdown",
      "source": [
        "12. Write a code to access the first element of the tuple ('apple', 'banana', 'cherry')"
      ],
      "metadata": {
        "id": "oe0i9A-Scnkm"
      }
    },
    {
      "cell_type": "code",
      "source": [
        "# Define the tuple\n",
        "my_tuple = ('apple', 'banana', 'cherry')\n",
        "\n",
        "# Access the first element (index 0)\n",
        "first_element = my_tuple[0]\n",
        "\n",
        "# Print the first element\n",
        "print(first_element)\n"
      ],
      "metadata": {
        "colab": {
          "base_uri": "https://localhost:8080/"
        },
        "id": "JPgsfIydcyLa",
        "outputId": "c5131f06-ccd7-4058-afee-a78772620a89"
      },
      "execution_count": 12,
      "outputs": [
        {
          "output_type": "stream",
          "name": "stdout",
          "text": [
            "apple\n"
          ]
        }
      ]
    },
    {
      "cell_type": "code",
      "source": [],
      "metadata": {
        "id": "cGoxBFUuc0X1"
      },
      "execution_count": null,
      "outputs": []
    },
    {
      "cell_type": "markdown",
      "source": [
        "13.  Write a code to count how many times the number 2 appears in the tuple (1, 2, 3, 2, 4, 2)."
      ],
      "metadata": {
        "id": "DHagI9kSc4aw"
      }
    },
    {
      "cell_type": "code",
      "source": [
        "# Define the tuple\n",
        "my_tuple = (1, 2, 3, 2, 4, 2)\n",
        "\n",
        "# Count how many times the number 2 appears in the tuple\n",
        "count_of_2 = my_tuple.count(2)\n",
        "\n",
        "# Print the count\n",
        "print(count_of_2)\n"
      ],
      "metadata": {
        "colab": {
          "base_uri": "https://localhost:8080/"
        },
        "id": "lHHCXDAFdEqo",
        "outputId": "52a9416a-7713-49a3-cfea-0f5a23f36f99"
      },
      "execution_count": 13,
      "outputs": [
        {
          "output_type": "stream",
          "name": "stdout",
          "text": [
            "3\n"
          ]
        }
      ]
    },
    {
      "cell_type": "markdown",
      "source": [
        "14.  Write a code to find the index of the element \"cat\" in the tuple ('dog', 'cat', 'rabbit')."
      ],
      "metadata": {
        "id": "Mc8sdP_rdH_K"
      }
    },
    {
      "cell_type": "code",
      "source": [
        "# Define the tuple\n",
        "my_tuple = ('dog', 'cat', 'rabbit')\n",
        "\n",
        "# Find the index of the element \"cat\"\n",
        "index_of_cat = my_tuple.index('cat')\n",
        "\n",
        "# Print the index\n",
        "print(index_of_cat)\n"
      ],
      "metadata": {
        "colab": {
          "base_uri": "https://localhost:8080/"
        },
        "id": "90E1oYl1dPP1",
        "outputId": "a571b661-2820-4582-fe1d-41f21ef28799"
      },
      "execution_count": 14,
      "outputs": [
        {
          "output_type": "stream",
          "name": "stdout",
          "text": [
            "1\n"
          ]
        }
      ]
    },
    {
      "cell_type": "code",
      "source": [],
      "metadata": {
        "id": "YMZNXiTBdZRy"
      },
      "execution_count": null,
      "outputs": []
    },
    {
      "cell_type": "markdown",
      "source": [
        "15. Write a code to check if the element \"banana\" is in the tuple ('apple', 'orange', 'banana')"
      ],
      "metadata": {
        "id": "ebIIYSa3dbgj"
      }
    },
    {
      "cell_type": "code",
      "source": [
        "# Define the tuple\n",
        "my_tuple = ('apple', 'orange', 'banana')\n",
        "\n",
        "# Check if \"banana\" is in the tuple\n",
        "is_banana_in_tuple = 'banana' in my_tuple\n",
        "\n",
        "# Print the result\n",
        "print(is_banana_in_tuple)\n"
      ],
      "metadata": {
        "colab": {
          "base_uri": "https://localhost:8080/"
        },
        "id": "358494ywdlBH",
        "outputId": "e1bf1ca4-4ddf-4ce1-d4b1-db775b0b1cb9"
      },
      "execution_count": 15,
      "outputs": [
        {
          "output_type": "stream",
          "name": "stdout",
          "text": [
            "True\n"
          ]
        }
      ]
    },
    {
      "cell_type": "code",
      "source": [],
      "metadata": {
        "id": "GXYjgwWKdqEA"
      },
      "execution_count": null,
      "outputs": []
    },
    {
      "cell_type": "markdown",
      "source": [
        "16. . Write a code to create a set with the elements 1, 2, 3, 4, 5 and print it."
      ],
      "metadata": {
        "id": "zRnx6XAfdu7F"
      }
    },
    {
      "cell_type": "code",
      "source": [
        "# Create a set with the elements 1, 2, 3, 4, 5\n",
        "my_set = {1, 2, 3, 4, 5}\n",
        "\n",
        "# Print the set\n",
        "print(my_set)\n"
      ],
      "metadata": {
        "colab": {
          "base_uri": "https://localhost:8080/"
        },
        "id": "gNvDxbWMdxeB",
        "outputId": "ce7e0c75-7fca-4991-a2dc-f7e186735a5d"
      },
      "execution_count": 16,
      "outputs": [
        {
          "output_type": "stream",
          "name": "stdout",
          "text": [
            "{1, 2, 3, 4, 5}\n"
          ]
        }
      ]
    },
    {
      "cell_type": "code",
      "source": [],
      "metadata": {
        "id": "nQ4e1dzld4jz"
      },
      "execution_count": null,
      "outputs": []
    },
    {
      "cell_type": "markdown",
      "source": [
        "17.  Write a code to add the element 6 to the set {1, 2, 3, 4}"
      ],
      "metadata": {
        "id": "T8EtZAGNd6NJ"
      }
    },
    {
      "cell_type": "code",
      "source": [
        "# Define the set\n",
        "my_set = {1, 2, 3, 4}\n",
        "\n",
        "# Add the element 6 to the set\n",
        "my_set.add(6)\n",
        "\n",
        "# Print the updated set\n",
        "print(my_set)\n"
      ],
      "metadata": {
        "colab": {
          "base_uri": "https://localhost:8080/"
        },
        "id": "h7vXgGh9eOQ7",
        "outputId": "20eb3f28-7198-4377-d7d7-25576ebd69da"
      },
      "execution_count": 17,
      "outputs": [
        {
          "output_type": "stream",
          "name": "stdout",
          "text": [
            "{1, 2, 3, 4, 6}\n"
          ]
        }
      ]
    },
    {
      "cell_type": "code",
      "source": [],
      "metadata": {
        "id": "PipDdvDOeT7g"
      },
      "execution_count": null,
      "outputs": []
    },
    {
      "cell_type": "markdown",
      "source": [
        "18.  Write a code to create a tuple with the elements 10, 20, 30 and print it"
      ],
      "metadata": {
        "id": "lcyigi83eVWx"
      }
    },
    {
      "cell_type": "code",
      "source": [
        "# Create a tuple with the elements 10, 20, 30\n",
        "my_tuple = (10, 20, 30)\n",
        "\n",
        "# Print the tuple\n",
        "print(my_tuple)\n"
      ],
      "metadata": {
        "colab": {
          "base_uri": "https://localhost:8080/"
        },
        "id": "k8KhqM13ep7C",
        "outputId": "f84eab67-edcc-4735-ba1c-fa36791663db"
      },
      "execution_count": 18,
      "outputs": [
        {
          "output_type": "stream",
          "name": "stdout",
          "text": [
            "(10, 20, 30)\n"
          ]
        }
      ]
    },
    {
      "cell_type": "code",
      "source": [],
      "metadata": {
        "id": "QNibW0bWeryA"
      },
      "execution_count": null,
      "outputs": []
    },
    {
      "cell_type": "markdown",
      "source": [
        "19. Write a code to access the first element of the tuple ('apple', 'banana', 'cherry')."
      ],
      "metadata": {
        "id": "lkRfzsIVetkq"
      }
    },
    {
      "cell_type": "code",
      "source": [
        "# Define the tuple\n",
        "my_tuple = ('apple', 'banana', 'cherry')\n",
        "\n",
        "# Access the first element (index 0)\n",
        "first_element = my_tuple[0]\n",
        "\n",
        "# Print the first element\n",
        "print(first_element)\n"
      ],
      "metadata": {
        "colab": {
          "base_uri": "https://localhost:8080/"
        },
        "id": "unAI2qcBfDq9",
        "outputId": "bc795fe8-944d-4fca-810f-071b4b6dc8bb"
      },
      "execution_count": 19,
      "outputs": [
        {
          "output_type": "stream",
          "name": "stdout",
          "text": [
            "apple\n"
          ]
        }
      ]
    },
    {
      "cell_type": "markdown",
      "source": [
        "20. Write a code to count how many times the number 2 appears in the tuple (1, 2, 3, 2, 4, 2)"
      ],
      "metadata": {
        "id": "3uXfvFk6fMhX"
      }
    },
    {
      "cell_type": "code",
      "source": [
        "# Define the tuple\n",
        "my_tuple = (1, 2, 3, 2, 4, 2)\n",
        "\n",
        "# Count how many times the number 2 appears in the tuple\n",
        "count_of_2 = my_tuple.count(2)\n",
        "\n",
        "# Print the count\n",
        "print(count_of_2)\n"
      ],
      "metadata": {
        "colab": {
          "base_uri": "https://localhost:8080/"
        },
        "id": "-8fptb-CfRFS",
        "outputId": "7729732e-4abf-4d5f-d6a9-55ee4f378c76"
      },
      "execution_count": 20,
      "outputs": [
        {
          "output_type": "stream",
          "name": "stdout",
          "text": [
            "3\n"
          ]
        }
      ]
    },
    {
      "cell_type": "code",
      "source": [],
      "metadata": {
        "id": "CG5srrkwfV_p"
      },
      "execution_count": null,
      "outputs": []
    },
    {
      "cell_type": "markdown",
      "source": [
        "21. Write a code to find the index of the element \"cat\" in the tuple ('dog', 'cat', 'rabbit')"
      ],
      "metadata": {
        "id": "OwYAO71sfaEg"
      }
    },
    {
      "cell_type": "code",
      "source": [
        "# Define the tuple\n",
        "my_tuple = ('dog', 'cat', 'rabbit')\n",
        "\n",
        "# Find the index of the element \"cat\"\n",
        "index_of_cat = my_tuple.index('cat')\n",
        "\n",
        "# Print the index\n",
        "print(index_of_cat)\n"
      ],
      "metadata": {
        "colab": {
          "base_uri": "https://localhost:8080/"
        },
        "id": "92gnxsRSfklU",
        "outputId": "80b8b85e-7d0e-4e24-ec19-b6fed639f997"
      },
      "execution_count": 21,
      "outputs": [
        {
          "output_type": "stream",
          "name": "stdout",
          "text": [
            "1\n"
          ]
        }
      ]
    },
    {
      "cell_type": "code",
      "source": [],
      "metadata": {
        "id": "vVUxi7pOflxu"
      },
      "execution_count": null,
      "outputs": []
    },
    {
      "cell_type": "markdown",
      "source": [
        "22. Write a code to check if the element \"banana\" is in the tuple ('apple', 'orange', 'banana')."
      ],
      "metadata": {
        "id": "DutjzOcPfnNI"
      }
    },
    {
      "cell_type": "code",
      "source": [
        "# Define the tuple\n",
        "my_tuple = ('apple', 'orange', 'banana')\n",
        "\n",
        "# Check if \"banana\" is in the tuple\n",
        "is_banana_in_tuple = 'banana' in my_tuple\n",
        "\n",
        "# Print the result\n",
        "print(is_banana_in_tuple)\n"
      ],
      "metadata": {
        "colab": {
          "base_uri": "https://localhost:8080/"
        },
        "id": "dnQDwgbRftYV",
        "outputId": "bee1ebfa-6cc3-48ea-d1a4-2ec0f5b5cabf"
      },
      "execution_count": 22,
      "outputs": [
        {
          "output_type": "stream",
          "name": "stdout",
          "text": [
            "True\n"
          ]
        }
      ]
    },
    {
      "cell_type": "code",
      "source": [],
      "metadata": {
        "id": "xMvuC7Tjfzi3"
      },
      "execution_count": null,
      "outputs": []
    },
    {
      "cell_type": "markdown",
      "source": [
        "23. Write a code to create a set with the elements 1, 2, 3, 4, 5 and print it."
      ],
      "metadata": {
        "id": "u5up0IDGf1Je"
      }
    },
    {
      "cell_type": "code",
      "source": [
        "# Create a set with the elements 1, 2, 3, 4, 5\n",
        "my_set = {1, 2, 3, 4, 5}\n",
        "\n",
        "# Print the set\n",
        "print(my_set)\n"
      ],
      "metadata": {
        "colab": {
          "base_uri": "https://localhost:8080/"
        },
        "id": "dnqyrvdff6V_",
        "outputId": "e282d25c-d097-433e-c76d-68997a6856ff"
      },
      "execution_count": 23,
      "outputs": [
        {
          "output_type": "stream",
          "name": "stdout",
          "text": [
            "{1, 2, 3, 4, 5}\n"
          ]
        }
      ]
    },
    {
      "cell_type": "code",
      "source": [],
      "metadata": {
        "id": "T7qWn6qvf-h9"
      },
      "execution_count": null,
      "outputs": []
    },
    {
      "cell_type": "markdown",
      "source": [
        "24. Write a code to add the element 6 to the set {1, 2, 3, 4}"
      ],
      "metadata": {
        "id": "r0lFenZSf_XZ"
      }
    },
    {
      "cell_type": "code",
      "source": [
        "# Define the set\n",
        "my_set = {1, 2, 3, 4}\n",
        "\n",
        "# Add the element 6 to the set\n",
        "my_set.add(6)\n",
        "\n",
        "# Print the updated set\n",
        "print(my_set)\n"
      ],
      "metadata": {
        "colab": {
          "base_uri": "https://localhost:8080/"
        },
        "id": "7TB-yZiYgG3F",
        "outputId": "bbb2b3a5-a8ce-433b-bd2b-ad284338dca6"
      },
      "execution_count": 24,
      "outputs": [
        {
          "output_type": "stream",
          "name": "stdout",
          "text": [
            "{1, 2, 3, 4, 6}\n"
          ]
        }
      ]
    },
    {
      "cell_type": "code",
      "source": [],
      "metadata": {
        "id": "6TElJTKjgH4V"
      },
      "execution_count": null,
      "outputs": []
    }
  ]
}